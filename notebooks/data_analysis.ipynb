{
 "cells": [
  {
   "cell_type": "code",
   "execution_count": 1,
   "id": "8a2e6c20",
   "metadata": {},
   "outputs": [
    {
     "name": "stdout",
     "output_type": "stream",
     "text": [
      "After conversion:\n",
      "tsla 'Date' dtype: datetime64[ns]\n",
      "news 'date' dtype: datetime64[ns, UTC-04:00]\n",
      "TSLA 'Date' sample:\n",
      " 0   2010-06-29\n",
      "1   2010-06-30\n",
      "2   2010-07-01\n",
      "3   2010-07-02\n",
      "4   2010-07-06\n",
      "Name: Date, dtype: datetime64[ns]\n",
      "News 'date' sample:\n",
      " 0   2020-06-05 10:30:54-04:00\n",
      "1   2020-06-03 10:45:20-04:00\n",
      "2   2020-05-26 04:30:07-04:00\n",
      "3   2020-05-22 12:45:06-04:00\n",
      "4   2020-05-22 11:38:59-04:00\n",
      "Name: date, dtype: datetime64[ns, UTC-04:00]\n",
      "Error during merge: You are trying to merge on datetime64[ns] and datetime64[ns, UTC-04:00] columns for key 'Date'. If you wish to proceed you should use pd.concat\n"
     ]
    }
   ],
   "source": [
    "import pandas as pd\n",
    "import os\n",
    "\n",
    "# Define your base directory\n",
    "base_dir = os.path.abspath(os.path.join(os.getcwd(), '..'))\n",
    "\n",
    "# Update file paths based on your structure\n",
    "files = {\n",
    "    'news': os.path.join(base_dir, 'Data', 'Data', 'raw_analyst_ratings', 'raw_analyst_ratings.csv'),\n",
    "    'tsla': os.path.join(base_dir, 'Data', 'Data', 'yfinance_data', 'yfinance_data', 'TSLA_historical_data.csv')\n",
    "    # Add other files as needed\n",
    "}\n",
    "\n",
    "# Load datasets\n",
    "news_df = pd.read_csv(files['news'])\n",
    "tsla_df = pd.read_csv(files['tsla'])\n",
    "\n",
    "# Step 1: Convert date columns to datetime\n",
    "# Check if columns exist\n",
    "if 'date' in news_df.columns:\n",
    "    news_df['date'] = pd.to_datetime(news_df['date'], errors='coerce')\n",
    "if 'Date' in tsla_df.columns:\n",
    "    tsla_df['Date'] = pd.to_datetime(tsla_df['Date'], errors='coerce')\n",
    "\n",
    "# Step 2: Print data types for verification\n",
    "print(\"After conversion:\")\n",
    "print(\"tsla 'Date' dtype:\", tsla_df['Date'].dtype)\n",
    "print(\"news 'date' dtype:\", news_df['date'].dtype)\n",
    "\n",
    "# Step 3: Drop rows with NaT in date columns\n",
    "tsla_df = tsla_df.dropna(subset=['Date'])\n",
    "news_df = news_df.dropna(subset=['date'])\n",
    "\n",
    "# Step 4: Verify first few entries\n",
    "print(\"TSLA 'Date' sample:\\n\", tsla_df['Date'].head())\n",
    "print(\"News 'date' sample:\\n\", news_df['date'].head())\n",
    "\n",
    "# Step 5: Perform the merge\n",
    "try:\n",
    "    merged_df = pd.merge(tsla_df, news_df, left_on='Date', right_on='date', how='inner')\n",
    "    print(\"Merge successful. Sample data:\")\n",
    "    print(merged_df.head())\n",
    "except Exception as e:\n",
    "    print(\"Error during merge:\", e)\n",
    "\n",
    "# Optional: Save merged data\n",
    "# merged_df.to_csv('merged_tsla_news.csv', index=False)"
   ]
  }
 ],
 "metadata": {
  "kernelspec": {
   "display_name": "Python 3",
   "language": "python",
   "name": "python3"
  },
  "language_info": {
   "codemirror_mode": {
    "name": "ipython",
    "version": 3
   },
   "file_extension": ".py",
   "mimetype": "text/x-python",
   "name": "python",
   "nbconvert_exporter": "python",
   "pygments_lexer": "ipython3",
   "version": "3.13.0"
  }
 },
 "nbformat": 4,
 "nbformat_minor": 5
}
